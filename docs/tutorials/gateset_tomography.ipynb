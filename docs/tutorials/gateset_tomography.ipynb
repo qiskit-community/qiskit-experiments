{
 "cells": [
  {
   "cell_type": "markdown",
   "id": "42c1459d",
   "metadata": {},
   "source": [
    "# Gate Set Tomography"
   ]
  },
  {
   "cell_type": "code",
   "execution_count": 1,
   "id": "083ffb50",
   "metadata": {},
   "outputs": [],
   "source": [
    "import numpy as np\n",
    "import qiskit\n",
    "\n",
    "# For GST experiment and followed analysis\n",
    "from qiskit_experiment.library import GateSetTomography\n",
    "from qiskit_experiment.library.gateset_tomography.gatesetbasis import default_gateset_basis, gram_matrix_rank\n",
    "\n",
    "from qiskit.extensions import XGate, YGate, HGate, U2Gate, IGate, SXGate, RZGate\n",
    "from qiskit.quantum_info import Operator, Choi, PTM, DensityMatrix\n",
    "\n",
    "# Noisy simulator backends\n",
    "from qiskit.providers.aer import AerSimulator\n",
    "from qiskit.test.mock import FakeParis\n",
    "from qiskit.providers.aer.noise import NoiseModel\n",
    "from qiskit import Aer\n",
    "\n",
    "backend_fake_P = AerSimulator.from_backend(FakeParis())"
   ]
  },
  {
   "cell_type": "markdown",
   "id": "84929d32",
   "metadata": {},
   "source": [
    "In this tutorial, we introduce how we can implement a GST experiment in Qiskit, run it on various backends and read the analysis results that can be performed using two fitters in addition to the accuracy measures of the final results of the experiment.  "
   ]
  },
  {
   "cell_type": "markdown",
   "id": "34311363",
   "metadata": {},
   "source": [
    "## Overview"
   ]
  },
  {
   "cell_type": "markdown",
   "id": "238ea237",
   "metadata": {},
   "source": [
    "### Mathematical preliminaries\n",
    "\n",
    "This tutourial will depend on the following mathematical concepts from the the quantum computing field:"
   ]
  },
  {
   "cell_type": "markdown",
   "id": "78042439",
   "metadata": {},
   "source": [
    "* A quantum system state of $N$ qubits is described by a **density matrix**, $\\rho$, which is a $d\\times d$ matrix with $d=2^N$. A valid density matrix $\\rho$ should satisfy the following two physical constraints:<br> \n",
    "1. $Tr(\\rho)=1$\n",
    "2. $\\rho$ is positive semi-definite (PSD), since it is also Hermitian $(\\rho=\\rho^\\dagger)$ this means it has only nonnegative values.<br><br>\n",
    "\n",
    "* A **general measurement** of the quantum system state is called POVM, where POVM stands for **P**ositive **O**perator **V**alued **M**easurement and is completely described by a set $\\left\\{ E_m=M_m^\\dagger M_m \\right\\} _m$ where $$\\sum_m E_m =\\sum_m  M_m^\\dagger M_m =\\mathcal{I}$$ and $E_m\\geq 0$. <br>The probability to obtain an outcome $m$ (e.g. $m$ is measuring the qubit in state $|0\\rangle$ for $E_0 = |0\\rangle \\langle 0|$) is:$$p_m=Tr(\\rho E_m)=\\langle\\langle E_m|\\rho \\rangle\\rangle$$where $|E_m\\rangle\\rangle$ and $|\\rho\\rangle\\rangle$ are **superstates**. This representation is called the \"superoperator\" formalism, in which operators in the Hilbert space of dimension $d\\times d$ are represented as \"vectors\" or states in a larger space, called **Hilbert-Schmidt space** of dimention $d^2\\times d^2$. For this tutourial, we'll regard $|E_m\\rangle\\rangle$ and $|\\rho\\rangle\\rangle$ as superstates expressed in a \"vector form\" in the normalized Pauli basis that spans the Hilbert-Schmidt space (PTM representation). For example, $$E_0 =|0\\rangle \\langle 0|=\\begin{pmatrix}\n",
    "1 & 0 \\\\\n",
    "0 & 0 \n",
    "\\end{pmatrix} = \\frac{1}{\\sqrt{2}} \\left( P_0 +P_3 \\right) \\rightarrow |E_0\\rangle\\rangle =\\frac{1}{\\sqrt{2}}(1,0,0,1)^T$$<br> where $P_0$ and $P_3$ are the single qubit noramalized Paulis $\\frac{1}{\\sqrt{2}} I$ and $\\frac{1}{\\sqrt{2}} Z$ respectively.<br><br>\n",
    "\n",
    "\n",
    "* A **quantum channel**, $G$, is a linear map that transforms a quantum state $\\rho$ to $G(\\rho)$ and it satisfies the following two physical constraints:\n",
    " 1. Trace preservation (TP) - TP means that $Tr(G(\\rho))$ is presereved and is equal to 1.\n",
    " 2. Complete Positivity (CP) - If $G$ keeps $\\rho$ positive, then this is a positive map. Complete positivity is a stronger condition, according to which when $G\\times \\mathcal{I}_A$ acts on a larger system $\\rho\\otimes \\rho_A$, it preserves positivity.\n",
    "\n",
    " If $G$ satisfies both of the conditions, we say it is a **CPTP** map.<br><br>\n",
    " Quantum channels may be displayed using various representations. For this tutourial, we will be focusing on the following two:\n",
    "<br> \n",
    " - Pauli transfer matrix (PTM) representation- Here, quantum channels are displayed in the normalized Pauli basis, where the $\\{i,j\\}$ of the PTM matrix of a quantum channel, $G$, is given by: $$(R_G)_{i,j} =Tr(P_i G(P_j)), $$ where $\\{P_i\\}_{i=1}^d$ is the orthonormal Pauli strings basis and $d=(2^{2N})$ is the Hilbert Schmidth space dimention where $N$ is the number of qubits.<br> For more information on PTM implementation in Qiskit, see [PTM CLASS](https://qiskit.org/documentation/stubs/qiskit.quantum_info.PTM.html).The TP condition on $G$ is equivalent to $(R_G)_{0j}=\\delta_{0j}$.<br>\n",
    "\n",
    " - Choi-Jamiolkowski (CJ) matrix representation- This representation is based on the Choi-Jamiolkowski isomorphism according to which, every quantum channel can be associated with a CJ matrix. CJ matrix, is a map from the PTM matrix $R_G$ to a density matrix in a larger Hilbert Space  that is defined as $$\\rho_G = \\frac{1}{2^N}\\sum_{i,j=1}^{d^2} (R_G)_{i,j} P_j^T\\otimes P_i.$$ <br>For more information about Choi representation implementation in Qiskit, see [Choi CLASS](https://qiskit.org/documentation/stubs/qiskit.quantum_info.Choi.html). Note that the implementation in Qiskit, returns an object which is equal to the density matrix up to a factor of $2^N$. CP condition pn $G$ is equivalent to $\\rho_G$ is PSD. \n",
    "<br>\n"
   ]
  },
  {
   "cell_type": "markdown",
   "id": "b40af6bc",
   "metadata": {},
   "source": [
    "***"
   ]
  },
  {
   "cell_type": "markdown",
   "id": "b6df0365",
   "metadata": {},
   "source": [
    "\n",
    "### Gate Set Tomography Experiment\n",
    "Gate-Set Tomography is used to perform **full characterization** of quantum processes using measurement data we obtain from measuring a specific set of quantum circuits."
   ]
  },
  {
   "cell_type": "markdown",
   "id": "052c8a64",
   "metadata": {},
   "source": [
    "Gate set tomography addresses one of the main shortcomings of quantum process tomography: the state preparation and measurements **(SPAM)** errors. GST deals with the SPAM errors self-consistently by including the gates used for both initializing and measuring the qubits in the gate set which GST is trying to reconstruct from processing measurement data."
   ]
  },
  {
   "cell_type": "markdown",
   "id": "6c74e8df",
   "metadata": {},
   "source": [
    "<br/>"
   ]
  },
  {
   "cell_type": "markdown",
   "id": "4bdaa904",
   "metadata": {},
   "source": [
    "To do this, GST performs full characterization of the so-called **gate set** which includes:\n",
    "- A set of gates: $\\mathcal{G} = (G_0, ..., G_M)$, \n",
    "- The native state: $|\\rho\\rangle\\rangle$ \n",
    "- The native measurement: $|E\\rangle\\rangle$,\n",
    "\n",
    "where:"
   ]
  },
  {
   "cell_type": "markdown",
   "id": "9a501197",
   "metadata": {},
   "source": [
    "$|\\rho\\rangle\\rangle$ and $|E\\rangle\\rangle$ are a native preparation state and measurement of the quantum device. The $|\\cdot \\rangle\\rangle$ here as explained in the above section indicates they are displayed the PTM representation; as superstates in the normalized Pauli strings basis $\\{|i\\rangle\\rangle \\ | \\ i\\in [0,1,2,...,d^2-1]\\}$- which refers to the set $\\{P_i\\}_{i=0}^{d^2-1}$. "
   ]
  },
  {
   "cell_type": "markdown",
   "id": "4aa89b8c",
   "metadata": {},
   "source": [
    "$\\mathcal{G}$ should include the gates we wish to characterize, and additional gates such that \n",
    "from the set of gates, $[G_i]_{i=0}^{M}$, we are able to construct the SPAM gates, $\\mathcal{F}=[F_i]_{i=0}^{d^2-1}$, which when acting on the native state and measurement it creates:\n",
    "- An informationally complete set of initial states: $|\\rho_i\\rangle\\rangle= R_{F_i}|\\rho\\rangle$, $i=0,1,2,..,d^2-1$\n",
    "\n",
    "and\n",
    "\n",
    "- An informationally complete set of measurements: $|E_i\\rangle\\rangle= R_{F_i}|E\\rangle$, $i=0,1,2,..,d^2-1$.\n",
    "\n",
    "** $d^2$ again is the superspace dim.= $2^{2\\cdot N}$ and $R$ with subscript ${F_i}$ or ${G_k}$ is the PTM representation (expressed in terms of the Pauli strings basis) of $F_i$ and $G_k$ respictively.."
   ]
  },
  {
   "cell_type": "markdown",
   "id": "cbfcb36e",
   "metadata": {},
   "source": [
    "Each $F_i$ is constructed from a sequence of the gates in the gate set. For example, we can have\n",
    "$F_1=G_5$ and $F_2=G_1o\\ G_3$ ($G3$ followed by $G1$)."
   ]
  },
  {
   "cell_type": "markdown",
   "id": "39c93bec",
   "metadata": {},
   "source": [
    "<br/>"
   ]
  },
  {
   "cell_type": "markdown",
   "id": "87400065",
   "metadata": {},
   "source": [
    "To be able to characterize the gate set, GST uses the following **three sets of circuits**: \n",
    "\n",
    "1. Circuits that measure elements of the form: $\\langle\\langle E|R_{F_i} R_{G_k} R_{F_j}|\\rho \\rangle\\rangle$"
   ]
  },
  {
   "cell_type": "markdown",
   "id": "33946926",
   "metadata": {},
   "source": [
    "![alt text](GST_circuit_rho_F_G_F_E_element1.png \"Title\")"
   ]
  },
  {
   "cell_type": "markdown",
   "id": "8bf22244",
   "metadata": {},
   "source": [
    "Note that, for each $k$, we have $d^4$ different circuits. If $R_{F_i}$'s were known, then this will be enough data to reconstruct $R_{G_k}$ which has $d^4$ unknown entries as well. However, since $R_{F_i}$ and $R_{F_j}$ are assumed to be unknown, we need more circuits to be able to reconstruct the gates. "
   ]
  },
  {
   "cell_type": "markdown",
   "id": "3f5d79c2",
   "metadata": {},
   "source": [
    "2. Circuits that measure elements of the form: $\\langle\\langle E|R_{F_i}R_{F_j}|\\rho\\rangle\\rangle$ (the Gram Matrix -g- Elements)"
   ]
  },
  {
   "cell_type": "markdown",
   "id": "88c124b2",
   "metadata": {},
   "source": [
    "![alt text](gram_matrix_elements.png \"Title\")"
   ]
  },
  {
   "cell_type": "markdown",
   "id": "fe50e990",
   "metadata": {},
   "source": [
    "3. Circuits that measure elements of the form: $\\langle\\langle E|R_{F_i}|\\rho\\rangle\\rangle$ "
   ]
  },
  {
   "cell_type": "markdown",
   "id": "c3390e63",
   "metadata": {},
   "source": [
    "![alt text](GST_circuit_rho_F_E_element.png \"Title\")"
   ]
  },
  {
   "cell_type": "markdown",
   "id": "d081b5f2",
   "metadata": {},
   "source": [
    "** Taking the first gate of $\\mathcal{G}$ and $\\mathcal{F}$ as the identity (null) gate, makes the second and third sets just two special cases of the first set. "
   ]
  },
  {
   "cell_type": "markdown",
   "id": "f7151b29",
   "metadata": {},
   "source": [
    "<br/>"
   ]
  },
  {
   "cell_type": "markdown",
   "id": "7c79fa60",
   "metadata": {},
   "source": [
    "### Analyzing the GST experimental data"
   ]
  },
  {
   "cell_type": "markdown",
   "id": "8e1d22e7",
   "metadata": {},
   "source": [
    "The obtained experimental data, from the above three sets of circuits, is enough to fully characterize the gate set. To do this, we may use two fitters:\n",
    "\n",
    "**Linear inversion**\n",
    "\n",
    "As in quantum process tomography, we use the experimental measurements $p_{ijk}=\\langle\\langle E_i|R_{G_k}|\\rho_j\\rangle\\rangle=(p_k)_{ij}$ to reconstruct $G_k$. However, as explained above, since the initial states and measurements are unknown, there is a need for performing more measurements to gain further information. For this purpose, $\\langle\\langle E|R_{F_i}R_{F_j}|\\rho\\rangle\\rangle$ and $\\langle\\langle E|R_{F_i}|\\rho\\rangle\\rangle$ are being measured.\n",
    "\n",
    "Having all this experimental data, we note that, firstly, $(p_k)_{ij}$ can be rewritten as:\n",
    "$$(p_k)_{ij}=(AR_{G_k}B)_{ij},$$\n",
    "where the matrices $A$ and $B$ are given by\n",
    "$$A=\\sum_i |i\\rangle\\rangle \\langle\\langle E|R_{F_i}$$\n",
    "$$B=\\sum_i R_{F_j}|\\rho\\rangle\\rangle \\langle\\langle j|,$$\n",
    "\n",
    "Secondly, the second set of measurements corresponding to having $G_k=${}, yields:\n",
    "$$\\langle\\langle E|R_{F_i}R_{F_j}|\\rho\\rangle\\rangle = (AB)_{ij}=g_{ij}$$ \n",
    "\n",
    "Hence, this set of measurements provides us with more information to reconstruct the gates $G_k$'s. However, We still can not reconstuct $B$ or $A$ separately.\n",
    "Now, if we multiply the expression for $p_k$ from the left side by the inverse of the gram matrix ($g$), we find\n",
    "$$g^{-1}p_k=B^{-1} R_{G_k} B\\equiv \\tilde{R}_{G_k}$$\n",
    "\n",
    "In a similar way, $\\langle\\langle E|R_{F_i}|\\rho\\rangle\\rangle$ gives us:\n",
    "$$g^{-1} \\sum_i |i\\rangle\\rangle \\langle\\langle E|R_{F_i}|\\rho\\rangle\\rangle = B^{-1}|\\rho\\rangle\\rangle \\equiv |\\tilde{\\rho}\\rangle\\rangle$$\n",
    "and $$\\sum_i \\langle\\langle E|R_{F_i}|\\rho\\rangle\\rangle \\langle\\langle i| = \\langle\\langle E|B \\equiv \\langle\\langle \\tilde{E}|$$\n",
    "\n",
    "Note that, the measurements of any two sets of $\\left\\{ |\\tilde{\\rho}\\rangle\\rangle,\\ \\langle\\langle \\tilde{E}|,\\ \\tilde{R}_{G_k} \\right\\}$, that are related by a gauge transformation $B$ are equivalent as they always lead the same expectation values - all the $B$'s will be canceled. In particular, they are equivalent to the case where $B$ is the identity, i.e., the original gates, measurement and state.\n",
    " \n",
    "However, as $B$ is immeasurable, it can be found using optimization methods such that the final results with the optimized gauge are close as much as possible to some target set. In qiskit GST code, the target is chosen to be the ideal set and the $B$ matrix is found by minimizing the RMS discrepancy of the two sets as defined in section 3.4.4 in [1]. \n",
    "**Drawbacks:** \n",
    "1. The gauge problem. \n",
    "2. This method does not gaurantee the results are TP and CP. \n",
    "\n",
    "**Maximum likelihood estimation** \n",
    "    As in every maximum likelihood problem, we have a set of observations, which are the measurement results of the circuits, $m_{ijk}$ for each one of the circuits $\\{i,j,k\\}$ and they are equal to $\\frac{\\#\\ of\\ counts_{|00\\cdots0\\rangle}}{shots}$. In addition, we assume a probabilistic model which is parametrized that describes the experiment results, and the maximum liklihood solution is given as the parametrization for which the observed results data under the assumed probabilistic model and the physical constraints are the most probable. Given a parametrization: $\\langle\\langle E(\\vec{t})|$, $|\\rho(\\vec{t}\\rangle\\rangle$ and $R_{G_k}(\\vec{t})$'s, the parametrized probabilitity to measure $|E\\rangle\\rangle$ in circuit $\\{i,j,k\\}$ is\n",
    "$$p_{ijk}=\\langle\\langle E(\\vec{t})|R_{G_k}(\\vec{t})|\\rho(\\vec{t}\\rangle\\rangle.$$\n",
    "Hence, assuming a multinomial probabilistic model for the GST experiment, a possible choice for the liklihood function is \n",
    "$$\\mathcal{L}(\\mathcal{G})=\\Pi_{ijk} p_{ijk}^{m_{ijk}} (1-p_{ijk})^{1-m_{ijk}}.$$\n",
    "Which is exactly equal to the multinomial probability distribution function up to the constant binomial coefficients and after exponentiating the whole probility distribution function by $\\frac{1}{shots}$.\n",
    "\n",
    "A simpler form can be obtained by invoking the central limit theorem (for further information, see section 3.5 in [1])). Taking the negative log of the central limit theorem results leaves us with the weighted least squares cost function, which we need to minimize:\n",
    "$$\\mathcal{L}_{WLS} =\\sum_{ijk} \\left( p_{ijk}-m_{ijk} \\right) ^2 /{\\sigma_{ijk}}^2$$\n",
    "where $\\sigma_{ijk}$ are the sampling errors of each circuit measurement.\n",
    "\n",
    "\n",
    "The form of the cost function Qiskit GST is even simpler than the WLS form and is equal to simply least square cost function given as \n",
    "$$ \\mathcal{L}_{LS} =\\sum_{ijk} \\left( p_{ijk}-m_{ijk} \\right)^2$$\n",
    "\n",
    "The MLE solution will be given as the parametrization $\\vec{t}$ that minimizes $\\mathcal{L}_{LS}$ and at the same time, respects the physical constraints: The quantum gates are CPTP, $rho$ is a valid density matrix and hence it is PSD and with trace $1$, and finally, $E$ is a POVM and hence $E$ and $\\mathcal{I}-E$ are positive.\n",
    "\n",
    "Here the default is to use the solution obtained by linear inversion after the gauge optimization as a starting point for the optimization problem (the user can choose not to and provide his/her own starting point). It is important to provide a starting point as the cost function is highly nonlinear and therefore a good starting point will help the optimization algorithm to converge to the correct minima. **Advantage:** The results satisfy the physical constraints and does not have a gauge problem.\n"
   ]
  },
  {
   "cell_type": "markdown",
   "id": "620643dd",
   "metadata": {},
   "source": [
    "***"
   ]
  },
  {
   "cell_type": "markdown",
   "id": "6172baa9",
   "metadata": {},
   "source": [
    "# GST Experiment"
   ]
  },
  {
   "cell_type": "markdown",
   "id": "177c87cd",
   "metadata": {},
   "source": [
    "To run GST experiment, we need to provide the following parameters:\n",
    "\n",
    "1) `qubits`: A list of physical qubits GST is performed on.\n",
    "\n",
    "2) `basis_gates`: A dictionary describing a set of gates $\\mathcal{G}$, GST experiment characterizes.\n",
    "\n",
    "3) `spam_gates`: A dictionary describing the decomposition of the SPAM gates in terms of the `basis_gates`.\n",
    "\n",
    "4) `additional_gates`: A list of gates to be added to the gateset to be characterized.\n",
    "\n",
    "5) `only_basis_gates`: A boolean variable that indicates whether the user provided only basis gates from which the algorithm needs to construct a possible set of SPAM gates.\n"
   ]
  },
  {
   "cell_type": "markdown",
   "id": "f792af90",
   "metadata": {},
   "source": [
    "## Gate set data arguments"
   ]
  },
  {
   "cell_type": "markdown",
   "id": "afd4bc9d",
   "metadata": {},
   "source": [
    "The gate set data we pass in to the GST experiment can be any of the following:\n",
    "    \n",
    "a) Two dictionaries describing both of the basis gates, i.e., $\\mathcal{G}$, and one for the spam gates, $\\mathcal{F}$, where:<br> `\n",
    " - `basis_gates`: the dictionary keys should include the gates labels, and the corresponding values are functions describing the action of the gate on the qubits that take QuantumCircuit and QuantumRegister as arguments.\n",
    " - `spam_gates`: The dictionary of the `spam_gates` keys are the indices of each spam gate that starts with the letter F, followed by the index value: 'F0', 'F1',...etc. The values of the `spam_gates` are tuples that describe the decomposition in terms of the `basis_gates`, where each tuple includes the labels in the decomposition in a specific order.\n",
    "<br>\n",
    "\n",
    "In this case, `only_basis_gates_1 ` is False, which is also the default value.<br>\n",
    "<br> The parameter `additional_gates` includes the gates we would like to add to the gate set to characterize, this is provided as a dictionary as well, where the keys are the names and the values can be either a qiskit gate object (e.g. `Gate`) or a function as in the `basis_gates`. \n",
    "\n",
    "Below, you may see an example for the single-qubit case:"
   ]
  },
  {
   "cell_type": "code",
   "execution_count": 2,
   "id": "bb1380f9",
   "metadata": {},
   "outputs": [],
   "source": [
    "# Define the basis gates as a dictionary, where the keys are the names of the gates, and the\n",
    "#values are the corresponding gates of type: FunctionType.\n",
    "basis_gates_1 = {\n",
    "    'Id': lambda circ, qubit: None,\n",
    "    'X_Rot_90': lambda circ, qubit: circ.append(U2Gate(-np.pi / 2, np.pi / 2), [qubit]),\n",
    "    'Y_Rot_90': lambda circ, qubit: circ.append(U2Gate(0, 0), [qubit])\n",
    "    }\n",
    "\n",
    "# Define the SPAM gates which are constructed from the basis gates and give an informationally\n",
    "#complete set of initial states and measurements when applied on rho=|0><0| and E=|0><0|. \n",
    "#The spam dictionary should be of the following form:\n",
    "\n",
    "spam_gates_1 = {\n",
    "    'F0': ('Id',),\n",
    "    'F1': ('X_Rot_90',),\n",
    "    'F2': ('Y_Rot_90',),\n",
    "    'F3': ('X_Rot_90', 'X_Rot_90')\n",
    "}\n",
    "\n",
    "# The default of only_basis_gates is False, so we don't need to pass it in in this case.\n",
    "only_basis_gates_1 = False\n",
    "\n",
    "#Additional_gates can be none as well\n",
    "additional_gates_1 = None"
   ]
  },
  {
   "cell_type": "markdown",
   "id": "4f3fe86b",
   "metadata": {},
   "source": [
    "- **Note:** For the sake of obtaining good tomography results, it is important to check before running the experiment that the gram matrix has a full rank and is not singular or ill-conditioned, so it can be \n",
    "inverted appropriately. In addition, the gate set should be picked so the gram matrix singular values are\n",
    "as large as possible. To display the gram matrix singular values and its rank, we may use the gram_matrix_rank function, that takes three arguments:\n",
    "1. `num_qubits`- Number of qubits GST is performed on.\n",
    "2. `spam_gates_labels`- A list of spam gates labels.\n",
    "3. `basis_gates` - Same argument as `basis_gates` provided to GST experiment.\n",
    "<br>\n",
    "This function returns both the gram matrix rank and its singular values."
   ]
  },
  {
   "cell_type": "code",
   "execution_count": 3,
   "id": "84e64eed",
   "metadata": {},
   "outputs": [
    {
     "name": "stdout",
     "output_type": "stream",
     "text": [
      "Gram matrix rank: 4\n",
      "Gram matrix singular values: [1.78077641 1.         0.5        0.28077641]\n"
     ]
    }
   ],
   "source": [
    "gram_rank, singular_values = gram_matrix_rank(num_qubits = 1, spam_gates_labels = list(spam_gates_1.values()) ,basis_gates = basis_gates_1)\n",
    "print('Gram matrix rank:', gram_rank)\n",
    "print('Gram matrix singular values:', singular_values)"
   ]
  },
  {
   "cell_type": "markdown",
   "id": "b6c442fc",
   "metadata": {},
   "source": [
    "<br/>"
   ]
  },
  {
   "cell_type": "markdown",
   "id": "1fc80646",
   "metadata": {},
   "source": [
    "b) If `basis_gates` is 'default' or None, the Qiskit built-in default gate sets for $\\mathcal{G}$ and $\\mathcal{F}$ will be used. The default is only available for single qubit or two qubits, and both are built from the backends basis gates. Additional gates GST should characterize again are provided as a dictionary: `additional_gates`.<br><br>\n",
    "     \n",
    "### For the single-qubit case\n",
    "The gateset basis of the default is: <br>\n",
    "`G = {'I', 'SX','RZ_pi/2', 'RZ_-pi/2'}`\n",
    "\n",
    "and the SPAM gates are:\n",
    "\n",
    "```\n",
    "{\n",
    "'F0': ('Id',)\n",
    "'F1': ('SX',),\n",
    "'F2': ('RZ_pi/2','SX','RZ_-pi/2',),\n",
    "'F3': ('SX', 'SX')\n",
    "}\n",
    "```\n",
    "\n",
    "Where `Id` is the identity gate `IGate()`, `SX` is `SXGate()`,` RZ_pi/2` is `RZGate`($\\theta=\\pi/2$) and `RZ_-pi/2` is `RZGate`($\\theta=-\\pi/2$).\n",
    "\n",
    "### For the two-qubits case:\n",
    "\n",
    "`G={'I I','X I', 'I X', 'RZ_pi/3 I', 'I RZ_pi/3', 'I SX', 'SX I', 'CX' )}`\n",
    "\n",
    "And the SPAM gates are:\n",
    "```\n",
    "{\n",
    "'F0': ('I I',)\n",
    "'F1': ('X I',)\n",
    "'F2': ('I X',)\n",
    "'F3': ('X I', 'I X',)\n",
    "'F4': ('I X', 'SX I', 'CX',)\n",
    "'F5': ('I SX', 'I RZ_pi/3', 'I SX',)\n",
    "'F6': ('SX I', 'RZ_pi/3 I', 'SX I',)\n",
    "'F7': ('X I', 'I SX', 'I RZ_pi/3', 'I SX')\n",
    "'F8': ('I X', 'I SX', 'CX', 'I SX')\n",
    "'F9': ('I X', 'SX I', 'RZ I', 'SX I')\n",
    "'F10': ('RZ_pi/3 I', 'RZ_pi/3 I', 'RZ_pi/3 I', 'SX I')\n",
    "'F11': ('I RZ_pi/3', 'I RZ_pi/3', 'I RZ_pi/3', 'I SX')\n",
    "'F12': ('I SX', 'SX I', 'CX', 'I SX')\n",
    "'F13': ('X I', 'I RZ_pi/3', 'I RZ_pi/3', 'I RZ_pi/3', 'I SX')\n",
    "'F14': ('I SX', 'I RZ_pi/3', 'SX I', 'CX', 'I SX')\n",
    "'F15': ('RZ_pi/3 I', 'RZ_pi/3 I', 'RZ_pi/3 I', 'CX', 'I SX', 'CX')\n",
    "}\n",
    "```\n",
    "where here, 'A B' stands for applying a gate B on the first qubit, and gate A on the second qubit. `'RZ_pi/3'` is the `RZGate`$(\\theta=\\pi/3)$.\n"
   ]
  },
  {
   "cell_type": "code",
   "execution_count": 4,
   "id": "fced5a9e",
   "metadata": {},
   "outputs": [],
   "source": [
    "basis_gates_2 = 'default'\n",
    "#if basis_gates are default, the spam gates are chosen to be the default spam gates automatically.\n",
    "spam_gates_2 = 'default'\n",
    "\n",
    "# Alternatively,\n",
    "# basis_gates_2 = None\n",
    "\n",
    "only_basis_gates_2 = False\n",
    "additional_gates_2 = {'h': HGate()}"
   ]
  },
  {
   "cell_type": "markdown",
   "id": "8ed71e5b",
   "metadata": {},
   "source": [
    "c) Providing only a set of basis gates the gate set is composed of. In this case, the boolean variable\n",
    "`only_basis_gates` should take the True value. \n",
    "For the spam gates construction, a built-in function, called:\n",
    "gatesetbasis_constrction() from 'qiskit_experiment/library/gateset_tomography/gatesetbasis.py' will be used to construct a set of spam gates from the provided basis gates which are informationally complete and correspond to a full rank gram matrix.\n",
    "\n",
    "For example, the provided gate set data can simply be:"
   ]
  },
  {
   "cell_type": "code",
   "execution_count": 5,
   "id": "1a2a980d",
   "metadata": {},
   "outputs": [],
   "source": [
    "basis_gates_3 = {\n",
    " 'Id': lambda circ, qubit: None,\n",
    " 'H': lambda circ, qubit: circ.append(HGate(), [qubit]),\n",
    " 'Y': lambda circ, qubit: circ.append(YGate(), [qubit]),\n",
    " 'X_Rot_90': lambda circ, qubit: circ.append(U2Gate(-np.pi / 2, np.pi / 2), [qubit]),\n",
    "}\n",
    "spam_gates_3 = None\n",
    "only_basis_gates_3 = True\n",
    "additional_gates_3 = None"
   ]
  },
  {
   "cell_type": "markdown",
   "id": "f5cfd09f",
   "metadata": {},
   "source": [
    "<br/>"
   ]
  },
  {
   "cell_type": "markdown",
   "id": "5c2fa8b3",
   "metadata": {},
   "source": [
    "## Running gate set tomography on 1-qubit"
   ]
  },
  {
   "cell_type": "code",
   "execution_count": 6,
   "id": "4e6c06a9",
   "metadata": {},
   "outputs": [],
   "source": [
    "#Creating a GateSetTomography experiment instance:\n",
    "\n",
    "#First option: Arbitrary basis gates set and spam gates set provided by the\n",
    "#user as two dictionaries-\n",
    "\"\"\"           \n",
    "gstexp1 = GateSetTomography(qubits=[0],\n",
    "                            basis_gates=basis_gates_1,\n",
    "                            spam_gates=spam_gates_1,\n",
    "                            additional_gates=additional_gates_1 ,\n",
    "                            only_basis_gates=only_basis_gates_1)\n",
    "\"\"\"\n",
    "################################\n",
    "#Second option: Default gate sets, with additional gates-\n",
    "\n",
    "gstexp1 = GateSetTomography(qubits=[0],\n",
    "                            basis_gates=basis_gates_2,\n",
    "                            spam_gates=spam_gates_2,\n",
    "                            additional_gates=additional_gates_2,\n",
    "                            only_basis_gates=only_basis_gates_2)\n",
    "\"\"\"\n",
    "################################\n",
    "#Third option:Providing only basis gates without SPAM-\n",
    "\n",
    "gstexp1 = GateSetTomography(qubits=[0],\n",
    "                            basis_gates=basis_gates_3,\n",
    "                            spam_gates=spam_gates_3,\n",
    "                            additional_gates=additional_gates_3 ,\n",
    "                            only_basis_gates=only_basis_gates_3)\n",
    "\n",
    "################################\n",
    "\"\"\"\n",
    "#Run GST experiment\n",
    "gstdata1 = gstexp1.run(backend_fake_P).block_for_results()\n"
   ]
  },
  {
   "cell_type": "code",
   "execution_count": 7,
   "id": "e2e80693",
   "metadata": {},
   "outputs": [
    {
     "data": {
      "text/html": [
       "<pre style=\"word-wrap: normal;white-space: pre;background: #fff0;line-height: 1.1;font-family: &quot;Courier New&quot;,Courier,monospace\">     ┌────┐ ░  ░ ┌─┐\n",
       "q_0: ┤ √X ├─░──░─┤M├\n",
       "     └────┘ ░  ░ └╥┘\n",
       "c: 1/═════════════╩═\n",
       "                  0 </pre>"
      ],
      "text/plain": [
       "     ┌────┐ ░  ░ ┌─┐\n",
       "q_0: ┤ √X ├─░──░─┤M├\n",
       "     └────┘ ░  ░ └╥┘\n",
       "c: 1/═════════════╩═\n",
       "                  0 "
      ]
     },
     "execution_count": 7,
     "metadata": {},
     "output_type": "execute_result"
    }
   ],
   "source": [
    "#To view and draw the GST experiment circuits, we may use the method `circuits` of\n",
    "#the `GateSetTomography` class which returns a list of all the GST circuits. \n",
    "\n",
    "#For instance, to draw the 4th, and 10th GST circuit:\n",
    "\n",
    "gstexp1.circuits(backend = backend_fake_P)[4].draw()\n"
   ]
  },
  {
   "cell_type": "code",
   "execution_count": 8,
   "id": "235e3718",
   "metadata": {},
   "outputs": [
    {
     "data": {
      "text/html": [
       "<pre style=\"word-wrap: normal;white-space: pre;background: #fff0;line-height: 1.1;font-family: &quot;Courier New&quot;,Courier,monospace\">     ┌─────────┐┌────┐┌──────────┐ ░  ░ ┌─────────┐┌────┐┌──────────┐┌─┐\n",
       "q_0: ┤ Rz(π/2) ├┤ √X ├┤ Rz(-π/2) ├─░──░─┤ Rz(π/2) ├┤ √X ├┤ Rz(-π/2) ├┤M├\n",
       "     └─────────┘└────┘└──────────┘ ░  ░ └─────────┘└────┘└──────────┘└╥┘\n",
       "c: 1/═════════════════════════════════════════════════════════════════╩═\n",
       "                                                                      0 </pre>"
      ],
      "text/plain": [
       "     ┌─────────┐┌────┐┌──────────┐ ░  ░ ┌─────────┐┌────┐┌──────────┐┌─┐\n",
       "q_0: ┤ Rz(π/2) ├┤ √X ├┤ Rz(-π/2) ├─░──░─┤ Rz(π/2) ├┤ √X ├┤ Rz(-π/2) ├┤M├\n",
       "     └─────────┘└────┘└──────────┘ ░  ░ └─────────┘└────┘└──────────┘└╥┘\n",
       "c: 1/═════════════════════════════════════════════════════════════════╩═\n",
       "                                                                      0 "
      ]
     },
     "execution_count": 8,
     "metadata": {},
     "output_type": "execute_result"
    }
   ],
   "source": [
    "gstexp1.circuits(backend = backend_fake_P)[10].draw()"
   ]
  },
  {
   "cell_type": "code",
   "execution_count": 9,
   "id": "199e8994",
   "metadata": {},
   "outputs": [
    {
     "name": "stdout",
     "output_type": "stream",
     "text": [
      "DbAnalysisResultV1\n",
      "- name: GST Experiment properties\n",
      "- value: {'fitter': 'scipy_optimizer_MLE_gst', 'fitter_time': 7.833991050720215, 'fitter_initial_guess': 'linear_inversion', 'GST gates': ['Id', 'SX', 'RZ_pi/2', 'RZ_-pi/2', 'h'], 'GST SPAM gates': {'F0': ('Id',), 'F1': ('SX',), 'F2': ('RZ_pi/2', 'SX', 'RZ_-pi/2'), 'F3': ('SX', 'SX')}}\n",
      "- device_components: ['Q0']\n",
      "- verified: False\n",
      "DbAnalysisResultV1\n",
      "- name: gst estimation of meas\n",
      "- value: Operator([[ 0.9861288 +0.j        , -0.01690239+0.01690239j],\n",
      "          [-0.01690239-0.01690239j,  0.01161372+0.j        ]],\n",
      "         input_dims=(2,), output_dims=(2,))\n",
      "- device_components: ['Q0']\n",
      "- verified: False\n",
      "DbAnalysisResultV1\n",
      "- name: gst estimation of rho\n",
      "- value: DensityMatrix([[ 9.96045345e-01+0.j        , -6.34172893e-04+0.00063417j],\n",
      "               [-6.34172893e-04-0.00063417j,  3.77612773e-03+0.j        ]],\n",
      "              dims=(2,))\n",
      "- device_components: ['Q0']\n",
      "- verified: False\n",
      "DbAnalysisResultV1\n",
      "- name: gst estimation of Id\n",
      "- value: Choi([[ 9.92031934e-01+0.j        ,  3.74448302e-02-0.00146351j,\n",
      "       -3.64882402e-03+0.0004237j ,  9.72605336e-01+0.1657906j ],\n",
      "      [ 3.74448302e-02+0.00146351j,  1.32402924e-02+0.j        ,\n",
      "       -4.23046821e-05-0.01235849j,  3.60273944e-02+0.00528048j],\n",
      "      [-3.64882402e-03-0.0004237j , -4.23046821e-05+0.01235849j,\n",
      "        1.29528779e-02+0.j        , -9.86849796e-04-0.00150461j],\n",
      "      [ 9.72605336e-01-0.1657906j ,  3.60273944e-02-0.00528048j,\n",
      "       -9.86849796e-04+0.00150461j,  9.81774896e-01+0.j        ]],\n",
      "     input_dims=(2,), output_dims=(2,))\n",
      "- extra: <1 items>\n",
      "- device_components: ['Q0']\n",
      "- verified: False\n",
      "DbAnalysisResultV1\n",
      "- name: gst estimation of SX\n",
      "- value: Choi([[ 0.52394663+0.j        , -0.04539346+0.48517271j,\n",
      "       -0.04482888+0.4732512j ,  0.49723592+0.0735526j ],\n",
      "      [-0.04539346-0.48517271j,  0.49314756+0.j        ,\n",
      "        0.4756896 -0.01078227j,  0.00535762-0.50043023j],\n",
      "      [-0.04482888-0.4732512j ,  0.4756896 +0.01078227j,\n",
      "        0.46271138+0.j        ,  0.01686043-0.48923755j],\n",
      "      [ 0.49723592-0.0735526j ,  0.00535762+0.50043023j,\n",
      "        0.01686043+0.48923755j,  0.52019443+0.j        ]],\n",
      "     input_dims=(2,), output_dims=(2,))\n",
      "- extra: <1 items>\n",
      "- device_components: ['Q0']\n",
      "- verified: False\n",
      "DbAnalysisResultV1\n",
      "- name: gst estimation of RZ_pi/2\n",
      "- value: Choi([[ 0.98599177+0.j        ,  0.00576616+0.00587336j,\n",
      "       -0.01748688+0.01235368j,  0.14111027-0.95131892j],\n",
      "      [ 0.00576616-0.00587336j,  0.02107876+0.j        ,\n",
      "        0.02248877+0.00732634j,  0.01181212-0.00723646j],\n",
      "      [-0.01748688-0.01235368j,  0.02248877-0.00732634j,\n",
      "        0.02910159+0.j        ,  0.00769464+0.00625585j],\n",
      "      [ 0.14111027+0.95131892j,  0.01181212+0.00723646j,\n",
      "        0.00769464-0.00625585j,  0.96382788+0.j        ]],\n",
      "     input_dims=(2,), output_dims=(2,))\n",
      "- extra: <1 items>\n",
      "- device_components: ['Q0']\n",
      "- verified: False\n",
      "DbAnalysisResultV1\n",
      "- name: gst estimation of RZ_-pi/2\n",
      "- value: Choi([[ 0.9854633 +0.j        , -0.01294262+0.01559654j,\n",
      "       -0.00322402-0.00215316j, -0.11281581+0.96424441j],\n",
      "      [-0.01294262-0.01559654j,  0.02100996+0.j        ,\n",
      "        0.02462682+0.00119886j,  0.0149641 +0.00152329j],\n",
      "      [-0.00322402+0.00215316j,  0.02462682-0.00119886j,\n",
      "        0.02950697+0.j        , -0.00318939+0.01152153j],\n",
      "      [-0.11281581-0.96424441j,  0.0149641 -0.00152329j,\n",
      "       -0.00318939-0.01152153j,  0.96401977+0.j        ]],\n",
      "     input_dims=(2,), output_dims=(2,))\n",
      "- extra: <1 items>\n",
      "- device_components: ['Q0']\n",
      "- verified: False\n",
      "DbAnalysisResultV1\n",
      "- name: gst estimation of h\n",
      "- value: Choi([[ 0.52324531+0.j        ,  0.48980269+0.05396106j,\n",
      "        0.4921667 +0.05567407j, -0.49714774-0.05615074j],\n",
      "      [ 0.48980269-0.05396106j,  0.48382818+0.j        ,\n",
      "        0.49370493+0.00608526j, -0.48054526+0.00578277j],\n",
      "      [ 0.4921667 -0.05567407j,  0.49370493-0.00608526j,\n",
      "        0.50756384+0.j        , -0.48483736+0.01207952j],\n",
      "      [-0.49714774+0.05615074j, -0.48054526-0.00578277j,\n",
      "       -0.48483736-0.01207952j,  0.48536267+0.j        ]],\n",
      "     input_dims=(2,), output_dims=(2,))\n",
      "- extra: <1 items>\n",
      "- device_components: ['Q0']\n",
      "- verified: False\n"
     ]
    }
   ],
   "source": [
    "#View final analysis results\n",
    "for result in gstdata1.analysis_results():\n",
    "    print(result)"
   ]
  },
  {
   "cell_type": "markdown",
   "id": "8afbab40",
   "metadata": {},
   "source": [
    "### Tomography Results"
   ]
  },
  {
   "cell_type": "markdown",
   "id": "04bb435f",
   "metadata": {},
   "source": [
    "The main results of GST experiment, are the fitted native state and measurement and all the fitted gates in the gate set. The naive state is displayed as a density matrix, the measurement in an opertaor form and all the gates in the Choi representation."
   ]
  },
  {
   "cell_type": "code",
   "execution_count": 10,
   "id": "da76aa27",
   "metadata": {},
   "outputs": [
    {
     "name": "stdout",
     "output_type": "stream",
     "text": [
      "DensityMatrix([[ 9.96045345e-01+0.j        , -6.34172893e-04+0.00063417j],\n",
      "               [-6.34172893e-04-0.00063417j,  3.77612773e-03+0.j        ]],\n",
      "              dims=(2,))\n"
     ]
    }
   ],
   "source": [
    "native_state_result = gstdata1.analysis_results(\"gst estimation of rho\")\n",
    "print(native_state_result.value)"
   ]
  },
  {
   "cell_type": "code",
   "execution_count": 11,
   "id": "c2b13bb9",
   "metadata": {},
   "outputs": [
    {
     "name": "stdout",
     "output_type": "stream",
     "text": [
      "Operator([[ 0.9861288 +0.j        , -0.01690239+0.01690239j],\n",
      "          [-0.01690239-0.01690239j,  0.01161372+0.j        ]],\n",
      "         input_dims=(2,), output_dims=(2,))\n"
     ]
    }
   ],
   "source": [
    "native_measurement_result = gstdata1.analysis_results(\"gst estimation of meas\")\n",
    "print(native_measurement_result.value)"
   ]
  },
  {
   "cell_type": "code",
   "execution_count": 12,
   "id": "49a30acd",
   "metadata": {},
   "outputs": [
    {
     "name": "stdout",
     "output_type": "stream",
     "text": [
      "SX_GST_Choi: Choi([[ 0.52394663+0.j        , -0.04539346+0.48517271j,\n",
      "       -0.04482888+0.4732512j ,  0.49723592+0.0735526j ],\n",
      "      [-0.04539346-0.48517271j,  0.49314756+0.j        ,\n",
      "        0.4756896 -0.01078227j,  0.00535762-0.50043023j],\n",
      "      [-0.04482888-0.4732512j ,  0.4756896 +0.01078227j,\n",
      "        0.46271138+0.j        ,  0.01686043-0.48923755j],\n",
      "      [ 0.49723592-0.0735526j ,  0.00535762+0.50043023j,\n",
      "        0.01686043+0.48923755j,  0.52019443+0.j        ]],\n",
      "     input_dims=(2,), output_dims=(2,))\n",
      "SX_GST_PTM: PTM([[ 1.        +0.j, -0.03947126+0.j, -0.02717904+0.j,  0.01709418+0.j],\n",
      "     [-0.02853303+0.j,  0.97292551+0.j,  0.06277033+0.j, -0.06225388+0.j],\n",
      "     [ 0.00406484+0.j, -0.08433488+0.j,  0.02154632+0.j, -0.97441026+0.j],\n",
      "     [-0.01334199+0.j, -0.0501865 +0.j,  0.97368143+0.j,  0.04414106+0.j]],\n",
      "    input_dims=(2,), output_dims=(2,))\n",
      "SX_GST_Choi_data: [[ 0.52394663+0.j         -0.04539346+0.48517271j -0.04482888+0.4732512j\n",
      "   0.49723592+0.0735526j ]\n",
      " [-0.04539346-0.48517271j  0.49314756+0.j          0.4756896 -0.01078227j\n",
      "   0.00535762-0.50043023j]\n",
      " [-0.04482888-0.4732512j   0.4756896 +0.01078227j  0.46271138+0.j\n",
      "   0.01686043-0.48923755j]\n",
      " [ 0.49723592-0.0735526j   0.00535762+0.50043023j  0.01686043+0.48923755j\n",
      "   0.52019443+0.j        ]]\n"
     ]
    }
   ],
   "source": [
    "#The quantum processes results are displayed in the Choi representation.\n",
    "SX_gate_result = gstdata1.analysis_results(\"gst estimation of SX\")\n",
    "print('SX_GST_Choi:', SX_gate_result.value)\n",
    "\n",
    "#To display the result in a PTM representation:\n",
    "print('SX_GST_PTM:', PTM(SX_gate_result.value))\n",
    "\n",
    "#To return the data of a Choi or PTM objects, we print the data attribute:\n",
    "\n",
    "print('SX_GST_Choi_data:', SX_gate_result.value.data)\n"
   ]
  },
  {
   "cell_type": "markdown",
   "id": "0b8da0cc",
   "metadata": {},
   "source": [
    "### Additional state metadata\n",
    "Additional data about the fidelity is stored in the extra data of the AnalysisResult of each gate.\n",
    "The fidelity measure, computes the avarage gate fidelity of GST results and some target using the function: 'qiskit.quantum_info.average_gate_fidelity'. If the target and the GST result are both non unitary (which is usually the case when the target is noisy), the 'qiskit.quantum_info.process_fidelity' measure will be used.\n",
    "\n",
    "The target's default, as in the above experiment, is the ideal gates. However, the user can provide \n",
    "a custom target set as in the example shown in the next section.\n",
    "\n",
    "To show the fidelity of the gates with the default target of the previous example, we type:"
   ]
  },
  {
   "cell_type": "code",
   "execution_count": 13,
   "id": "b0d7f914",
   "metadata": {},
   "outputs": [
    {
     "name": "stdout",
     "output_type": "stream",
     "text": [
      "extra:\n",
      " {'Average gate fidelity': 0.9868361993961127}\n"
     ]
    }
   ],
   "source": [
    "print('extra:\\n', gstdata1.analysis_results(\"gst estimation of SX\").extra)"
   ]
  },
  {
   "cell_type": "code",
   "execution_count": 14,
   "id": "4972d020",
   "metadata": {},
   "outputs": [
    {
     "name": "stdout",
     "output_type": "stream",
     "text": [
      "extra:\n",
      " {'Average gate fidelity': 0.9754095826563655}\n"
     ]
    }
   ],
   "source": [
    "print('extra:\\n', gstdata1.analysis_results(\"gst estimation of RZ_pi/2\").extra)"
   ]
  },
  {
   "cell_type": "markdown",
   "id": "ca4e8ca0",
   "metadata": {},
   "source": [
    "### Comparing the GST results to an arbitrary target set"
   ]
  },
  {
   "cell_type": "markdown",
   "id": "9b7fabe0",
   "metadata": {},
   "source": [
    "As a default, the Qiskit GST algorithm compares the final experiment to the ideal set of gates. However, the user can provide an arbitrary target set to compare the results to.\n",
    "The target set is a dictionary, where the keys are the labels of the gates,\n",
    "and the corresponding values are provided as `Operator`, `Gate`, `FunctionType`, `PTM` or `Choi`. \n",
    "The `target_set` parameter is passed in as an analysis option.\n",
    "\n",
    "For example:"
   ]
  },
  {
   "cell_type": "code",
   "execution_count": 15,
   "id": "13ffdc77",
   "metadata": {},
   "outputs": [
    {
     "name": "stderr",
     "output_type": "stream",
     "text": [
      "Input channel is not TP. Tr_2[Choi] - I has non-zero eigenvalues: [-0.01557181  0.01557181]\n",
      "Input channel is not TP. Tr_2[Choi] - I has non-zero eigenvalues: [-0.09479954  0.09479954]\n",
      "Input channel is not TP. Tr_2[Choi] - I has non-zero eigenvalues: [-0.011291  0.011291]\n",
      "Input channel is not TP. Tr_2[Choi] - I has non-zero eigenvalues: [-0.08526228  0.08526228]\n"
     ]
    },
    {
     "name": "stdout",
     "output_type": "stream",
     "text": [
      "GST estimation of Y:\n",
      " Choi([[ 0.01114289+0.j        ,  0.03658832-0.00360486j,\n",
      "       -0.02617626-0.00396122j,  0.00221652+0.00395273j],\n",
      "      [ 0.03658832+0.00360486j,  0.99137079+0.j        ,\n",
      "       -0.9852594 -0.03006283j,  0.02624565+0.01496864j],\n",
      "      [-0.02617626+0.00396122j, -0.9852594 +0.03006283j,\n",
      "        0.99517027+0.j        , -0.0275813 -0.00961493j],\n",
      "      [ 0.00221652-0.00395273j,  0.02624565-0.01496864j,\n",
      "       -0.0275813 +0.00961493j,  0.00231606+0.j        ]],\n",
      "     input_dims=(2,), output_dims=(2,))\n",
      "extra:\n",
      " {'Process fidelity': 0.9866632740055256}\n"
     ]
    }
   ],
   "source": [
    "basis_gates = basis_gates_3\n",
    "\n",
    "#Noise model: Amplitude damping applied on each qubit after each gate. Th PTM representation of\n",
    "#amplitude damping channel: \n",
    "gamma = 0.05\n",
    "noise_ptm_AD = PTM(np.array([[1, 0, 0, 0],\n",
    "                             [0, np.sqrt(1 - gamma), 0, 0],\n",
    "                             [0, 0, np.sqrt(1 - gamma), 0],\n",
    "                             [gamma, 0, 0, 1 - gamma]]))\n",
    "         \n",
    "# We can add targets E and rho, but they are not relevant, as the fidelity measure is applied only \n",
    "#on the target set.\n",
    "target_set = {\n",
    " 'Id':Choi(IGate()),\n",
    " 'H': Choi(HGate()),\n",
    " 'Y': Choi(YGate()),\n",
    " 'X_Rot_90': Choi(U2Gate(-np.pi / 2, np.pi / 2)),\n",
    "}\n",
    "         \n",
    "#As the gates after the noise in PTM representation is simply the multiplication of the noise\n",
    "#channel by each gate channel, the noisy target set can be obtained in the PTM representation via:\n",
    "target_set_noisy = {}\n",
    "for key in target_set:\n",
    "    if key != 'I':\n",
    "        target_set_noisy[key]= PTM(np.dot(noise_ptm_AD, PTM(target_set[key]).data))\n",
    "    \n",
    "#Noise model\n",
    "noise_model = NoiseModel()\n",
    "noise_model.add_all_qubit_quantum_error(noise_ptm_AD, ['sx', 'x', 'rz'])\n",
    "backend_aer = Aer.get_backend(\"aer_simulator\")\n",
    "\n",
    "#GST experiment:\n",
    "gstexp4=GateSetTomography(qubits=[0], basis_gates=basis_gates_3,\n",
    "                        only_basis_gates=True)\n",
    "gstexp4.set_analysis_options(target_set = target_set_noisy)\n",
    "\n",
    "gstdata4 = gstexp4.run(backend=backend_aer, noise_model=noise_model).block_for_results()\n",
    "\n",
    "additional_gate_result = gstdata4.analysis_results(\"gst estimation of Y\")\n",
    "print('GST estimation of Y:\\n', additional_gate_result.value)\n",
    "print('extra:\\n', additional_gate_result.extra)\n",
    "\n"
   ]
  },
  {
   "cell_type": "markdown",
   "id": "978621eb",
   "metadata": {},
   "source": [
    "### Tomography Fitters and additional analysis options:"
   ]
  },
  {
   "cell_type": "markdown",
   "id": "cd25e215",
   "metadata": {},
   "source": [
    "There are two fitters that can be used for the GST experiment analysis, which can be set as analysis options, by setting `fitter = 'name of the fitter'`."
   ]
  },
  {
   "cell_type": "markdown",
   "id": "6535821d",
   "metadata": {},
   "source": [
    "$\\bf{1.}$ The first fitter is the **linear inversion fitter**: 'linear_inversion_gst'.As there is a gauge freedom in this case, the gauge is found using scipy optimization method, which searched for the similarity matrix $B$ that minimizes the RMS distance between the ideal set and the linear inversion results with the gauge $B$. \n",
    "\n",
    "The rsults of this fitter as mentioned earlier are not physical as well. Namely,\n",
    "they are not TP or CP. The user however can choose to rescale the results to be TP or not CP or both. To do this, the user should set the analysis option `rescale_tp` and `rescale_cp` to be true. The default value of `rescale_tp` and `rescale_cp` is False for both. The values of both will be displayed in\n",
    "the 'GST Experiment properties' AnalysisResult."
   ]
  },
  {
   "cell_type": "markdown",
   "id": "4a7ce869",
   "metadata": {},
   "source": [
    "$\\bf{2.}$ The second fitter which is the default fitter is the **MLE fitter**: 'scipy_optimizer_MLE_gst'. The results of this fitter are always CPTP and hence, `rescale_tp` and `rescale_cp` options are not relevant here. \n",
    "\n",
    "For this fitter, a `fitter_initial_guess` can be passed in as an analysis option. If the `fitter_initial_guess` is None, the optimization will be performed without an initial point and it may fail. It also takes as a string either \"default\" or \"linear_inversion\" and in both cases it uses linear inversion result as a starting solution. \n",
    "\n",
    "The user can provide an arbitrary initial guess for the MLE fitter which is a dictionary, including the names of the state, measurements and gates and their corresponding values, where:\n",
    "\n",
    "- The value of rho, whose key is 'rho', can be a DensityMatrix or an array representing the PTM representation in the orthonormal\n",
    "Pauli basis composed of strings of the form: $$\\Pi_{i_0 i_1 \\cdots i_N} P_{i_0}\\otimes P_{i_1}\\otimes \\cdots \\otimes P_{i_{N-1}}$$, where $P_{i_j}\\in \\frac{1}{\\sqrt{2}}[I, X, Y, Z]$ and \n",
    "$N$ is the number of qubits. \n",
    "- The value of E, whose key should be 'meas' is an array representing the `PTM` representation of E. \n",
    "- The value of each one of the gates can be of type: `FunctionType`, `Choi`, `PTM`, `Gate` or `Operator`.\n",
    "\n",
    "**Notes**: \n",
    " 1. The dictionary defined for the `fitter_initial_guess` should start with the data for \"rho\", then those for \"meas\" (E) and finally the data for each one of the gates in the gates.\n",
    " 2. In the examples above, the default fitter which is the MLE fitter, with the default fitter initial guess which is the linear inversion results, were used."
   ]
  },
  {
   "cell_type": "markdown",
   "id": "92abc1e6",
   "metadata": {},
   "source": [
    "#### Example for displaying the rescaled linear inversion GST results:"
   ]
  },
  {
   "cell_type": "code",
   "execution_count": 16,
   "id": "fb58d200",
   "metadata": {},
   "outputs": [
    {
     "name": "stdout",
     "output_type": "stream",
     "text": [
      "DbAnalysisResultV1\n",
      "- name: GST Experiment properties\n",
      "- value: {'fitter': 'linear_inversion_gst', 'fitter_time': 0.7054839134216309, 'rescale_cp': True, 'rescale_tp': True, 'GST gates': ['Id', 'X_Rot_90', 'Y_Rot_90'], 'GST SPAM gates': {'F0': ('Id',), 'F1': ('X_Rot_90',), 'F2': ('Y_Rot_90',), 'F3': ('X_Rot_90', 'X_Rot_90')}}\n",
      "- device_components: ['Q0']\n",
      "- verified: False\n",
      "DbAnalysisResultV1\n",
      "- name: gst estimation of X_Rot_90\n",
      "- value: Choi([[ 0.49926136+0.j        ,  0.0140139 +0.48456003j,\n",
      "       -0.00447987+0.49227578j,  0.4851436 +0.00625403j],\n",
      "      [ 0.0140139 -0.48456003j,  0.48686766+0.j        ,\n",
      "        0.49531295+0.00131715j,  0.01639554-0.48842777j],\n",
      "      [-0.00447987-0.49227578j,  0.49531295-0.00131715j,\n",
      "        0.52223907+0.j        ,  0.0166967 -0.50120278j],\n",
      "      [ 0.4851436 -0.00625403j,  0.01639554+0.48842777j,\n",
      "        0.0166967 +0.50120278j,  0.4916319 +0.j        ]],\n",
      "     input_dims=(2,), output_dims=(2,))\n",
      "- extra: <1 items>\n",
      "- device_components: ['Q0']\n",
      "- verified: False\n",
      "extra:\n",
      " {'Average gate fidelity': 0.9911538181754881}\n"
     ]
    }
   ],
   "source": [
    "gstexp5 = GateSetTomography(qubits=[0],basis_gates=basis_gates_1, spam_gates=spam_gates_1)\n",
    "gstexp5.set_analysis_options(fitter='linear_inversion_gst',rescale_tp=True, rescale_cp=True)\n",
    "gstdata5 = gstexp5.run(backend_fake_P).block_for_results()\n",
    "print(gstdata5.analysis_results(\"GST Experiment properties\"))\n",
    "print(gstdata5.analysis_results(\"gst estimation of X_Rot_90\"))\n",
    "print('extra:\\n', gstdata5.analysis_results(\"gst estimation of X_Rot_90\").extra)"
   ]
  },
  {
   "cell_type": "markdown",
   "id": "0dbaf598",
   "metadata": {},
   "source": [
    "#### Example for providing an arbitrary fitter initial guess for MLE fitter:"
   ]
  },
  {
   "cell_type": "code",
   "execution_count": 17,
   "id": "ce3d3641",
   "metadata": {},
   "outputs": [
    {
     "name": "stdout",
     "output_type": "stream",
     "text": [
      "DbAnalysisResultV1\n",
      "- name: GST Experiment properties\n",
      "- value: {'fitter': 'scipy_optimizer_MLE_gst', 'fitter_time': 4.665173530578613, 'fitter_initial_guess': {'meas': array([0.70710678, 0.        , 0.        , 0.70710678]), 'rho': array([[0.70710678+0.j],\n",
      "       [0.        +0.j],\n",
      "       [0.        +0.j],\n",
      "       [0.70710678+0.j]]), 'Id': PTM([[1.+0.j, 0.+0.j, 0.+0.j, 0.+0.j],\n",
      "     [0.+0.j, 1.+0.j, 0.+0.j, 0.+0.j],\n",
      "     [0.+0.j, 0.+0.j, 1.+0.j, 0.+0.j],\n",
      "     [0.+0.j, 0.+0.j, 0.+0.j, 1.+0.j]],\n",
      "    input_dims=(2,), output_dims=(2,)), 'H': PTM([[ 1.+0.j,  0.+0.j,  0.+0.j,  0.+0.j],\n",
      "     [ 0.+0.j,  0.+0.j,  0.+0.j,  1.+0.j],\n",
      "     [ 0.+0.j,  0.+0.j, -1.+0.j,  0.+0.j],\n",
      "     [ 0.+0.j,  1.+0.j,  0.+0.j,  0.+0.j]],\n",
      "    input_dims=(2,), output_dims=(2,)), 'Y': PTM([[ 1.+0.j,  0.+0.j,  0.+0.j,  0.+0.j],\n",
      "     [ 0.+0.j, -1.+0.j,  0.+0.j,  0.+0.j],\n",
      "     [ 0.+0.j,  0.+0.j,  1.+0.j,  0.+0.j],\n",
      "     [ 0.+0.j,  0.+0.j,  0.+0.j, -1.+0.j]],\n",
      "    input_dims=(2,), output_dims=(2,)), 'X_Rot_90': PTM([[ 1.000000e+00+0.j,  0.000000e+00+0.j,  0.000000e+00+0.j,\n",
      "       0.000000e+00+0.j],\n",
      "     [ 0.000000e+00+0.j,  1.000000e+00+0.j,  6.123234e-17+0.j,\n",
      "       6.123234e-17+0.j],\n",
      "     [ 0.000000e+00+0.j,  6.123234e-17+0.j,  0.000000e+00+0.j,\n",
      "      -1.000000e+00+0.j],\n",
      "     [ 0.000000e+00+0.j, -6.123234e-17+0.j,  1.000000e+00+0.j,\n",
      "       0.000000e+00+0.j]],\n",
      "    input_dims=(2,), output_dims=(2,))}, 'GST gates': ['Id', 'H', 'Y', 'X_Rot_90'], 'GST SPAM gates': {'F0': ('Id',), 'F1': ('H',), 'F2': ('Y',), 'F3': ('Y', 'X_Rot_90')}}\n",
      "- device_components: ['Q0']\n",
      "- verified: False\n",
      "DbAnalysisResultV1\n",
      "- name: gst estimation of H\n",
      "- value: Choi([[ 0.5+0.00000000e+00j,  0.5-1.18274300e-07j,  0.5-1.18274300e-07j,\n",
      "       -0.5+1.18274300e-07j],\n",
      "      [ 0.5+1.18274300e-07j,  0.5+0.00000000e+00j,  0.5-2.64697796e-23j,\n",
      "       -0.5+1.32348898e-23j],\n",
      "      [ 0.5+1.18274300e-07j,  0.5+2.64697796e-23j,  0.5+0.00000000e+00j,\n",
      "       -0.5+0.00000000e+00j],\n",
      "      [-0.5-1.18274300e-07j, -0.5-1.32348898e-23j, -0.5+0.00000000e+00j,\n",
      "        0.5+0.00000000e+00j]],\n",
      "     input_dims=(2,), output_dims=(2,))\n",
      "- extra: <1 items>\n",
      "- device_components: ['Q0']\n",
      "- verified: False\n",
      "extra:\n",
      " {'Average gate fidelity': 0.9999999999999861}\n"
     ]
    }
   ],
   "source": [
    "fitter_initial_gateset = {\n",
    " 'meas': np.array([1/np.sqrt(2), 0, 0, 1/np.sqrt(2)]),\n",
    " 'rho': DensityMatrix(np.array([[1,0],[0,0]])),\n",
    " 'Id':PTM(IGate()),\n",
    " 'H': PTM(HGate()),\n",
    " 'Y': PTM(YGate()),\n",
    " 'X_Rot_90': PTM(U2Gate(-np.pi / 2, np.pi / 2)),\n",
    "}\n",
    "\n",
    "\n",
    "gstexp6 = GateSetTomography(qubits=[0], basis_gates=basis_gates_3, only_basis_gates=True)\n",
    "gstexp6.set_analysis_options(fitter_initial_guess=fitter_initial_gateset)\n",
    "gstdata6 = gstexp6.run(backend_fake_P).block_for_results()\n",
    "print(gstdata6.analysis_results(\"GST Experiment properties\"))\n",
    "print(gstdata6.analysis_results(\"gst estimation of H\"))\n",
    "print('extra:\\n', gstdata6.analysis_results(\"gst estimation of H\").extra)\n",
    "\n"
   ]
  },
  {
   "cell_type": "markdown",
   "id": "c9b3f819",
   "metadata": {},
   "source": [
    "## Running gate set tomography on 2-qubits"
   ]
  },
  {
   "cell_type": "markdown",
   "id": "5a675e38",
   "metadata": {},
   "source": [
    "GST experiment can be run on an arbitrary number of qubits. However, as solving the highly nonlinear MLE optimization problem takes a long time which sharply increases as we increase the number of qubits, it is almost non possible to run GST on three qubits with MLE fitter.\n",
    "\n",
    "To run GST on two qubits:"
   ]
  },
  {
   "cell_type": "code",
   "execution_count": 18,
   "id": "25ec1507",
   "metadata": {},
   "outputs": [
    {
     "name": "stdout",
     "output_type": "stream",
     "text": [
      "DbAnalysisResultV1\n",
      "- name: GST Experiment properties\n",
      "- value: {'fitter': 'scipy_optimizer_MLE_gst', 'fitter_time': 6784.263683080673, 'fitter_initial_guess': 'linear_inversion', 'GST gates': ['I I', 'X I', 'I X', 'RZ_pi_over_3 I', 'I RZ_pi_over_3', 'I SX', 'SX I', 'CX'], 'GST SPAM gates': {'F0': ('I I',), 'F1': ('X I',), 'F2': ('I X',), 'F3': ('X I', 'I X'), 'F4': ('I X', 'SX I', 'CX'), 'F5': ('I SX', 'I RZ_pi_over_3', 'I SX'), 'F6': ('SX I', 'RZ_pi_over_3 I', 'SX I'), 'F7': ('X I', 'I SX', 'I RZ_pi_over_3', 'I SX'), 'F8': ('I X', 'I SX', 'CX', 'I SX'), 'F9': ('I X', 'SX I', 'RZ_pi_over_3 I', 'SX I'), 'F10': ('RZ_pi_over_3 I', 'RZ_pi_over_3 I', 'RZ_pi_over_3 I', 'SX I'), 'F11': ('I RZ_pi_over_3', 'I RZ_pi_over_3', 'I RZ_pi_over_3', 'I SX'), 'F12': ('I SX', 'SX I', 'CX', 'I SX'), 'F13': ('X I', 'I RZ_pi_over_3', 'I RZ_pi_over_3', 'I RZ_pi_over_3', 'I SX'), 'F14': ('I SX', 'I RZ_pi_over_3', 'SX I', 'CX', 'I SX'), 'F15': ('RZ_pi_over_3 I', 'RZ_pi_over_3 I', 'RZ_pi_over_3 I', 'CX', 'I SX', 'CX')}}\n",
      "- device_components: ['Q0', 'Q1']\n",
      "- verified: False\n",
      "DbAnalysisResultV1\n",
      "- name: gst estimation of CX\n",
      "- value: Choi([[ 9.53610172e-01+0.j        ,  7.93910566e-03+0.00132616j,\n",
      "        4.51491207e-03-0.02848508j,  2.15280119e-02-0.00807166j,\n",
      "       -3.17922659e-02-0.03217693j,  2.07225804e-02-0.04386567j,\n",
      "       -3.26518258e-02-0.01185528j,  9.00430896e-01+0.01724808j,\n",
      "       -6.00753968e-03+0.01762998j,  1.12337159e-02+0.02179749j,\n",
      "        9.12088964e-01+0.10243005j, -1.76090869e-02-0.02797517j,\n",
      "        3.35542456e-02+0.00383587j,  8.69796881e-01+0.0461868j ,\n",
      "       -5.10094238e-03-0.0022634j ,  2.83957678e-02+0.06751821j],\n",
      "      [ 7.93910566e-03-0.00132616j,  1.75725108e-02+0.j        ,\n",
      "       -6.10388172e-03-0.00455183j, -6.55440740e-03-0.0102003j ,\n",
      "        6.06641369e-03+0.00033627j,  5.16285591e-03-0.00226621j,\n",
      "       -1.08863592e-02+0.0093732j ,  2.59772439e-02-0.00093975j,\n",
      "       -3.65515414e-04+0.0040705j ,  6.13589037e-03-0.00049833j,\n",
      "        1.80576719e-02+0.01298466j, -1.08345039e-02+0.00148095j,\n",
      "       -1.02406440e-02-0.01181262j,  3.07598465e-02-0.0058895j ,\n",
      "        3.81909486e-03-0.00819517j, -7.55165015e-03-0.01102368j],\n",
      "      [ 4.51491207e-03+0.02848508j, -6.10388172e-03+0.00455183j,\n",
      "        2.49703991e-02+0.j        ,  6.92063549e-03+0.00656041j,\n",
      "       -1.30152677e-02-0.01634229j,  2.21851209e-03-0.0001338j ,\n",
      "       -9.90104966e-04-0.01767962j, -2.76092302e-02+0.04721429j,\n",
      "       -4.64910472e-03-0.00473261j,  9.23482913e-03-0.01385072j,\n",
      "       -2.15779352e-02+0.01875619j,  1.90734766e-03-0.0195139j ,\n",
      "        6.87848140e-03-0.00399232j, -1.85325522e-02+0.05899391j,\n",
      "       -5.01217066e-04-0.0004453j ,  8.38182286e-03+0.00871895j],\n",
      "      [ 2.15280119e-02+0.00807166j, -6.55440740e-03+0.0102003j ,\n",
      "        6.92063549e-03-0.00656041j,  3.83621816e-02+0.j        ,\n",
      "       -2.28798726e-02+0.01688452j,  1.34078802e-02-0.00568033j,\n",
      "       -9.72276608e-03-0.01568091j,  1.49646481e-02+0.02136431j,\n",
      "        6.58178300e-03+0.009111j  , -1.65845219e-02+0.00327924j,\n",
      "        9.90282645e-03+0.03271173j, -1.66569237e-04-0.00871219j,\n",
      "        2.49878744e-02-0.0036747j ,  3.41801385e-03+0.01621018j,\n",
      "       -2.23734377e-03-0.00221741j,  1.03337143e-02+0.0018336j ],\n",
      "      [-3.17922659e-02+0.03217693j,  6.06641369e-03-0.00033627j,\n",
      "       -1.30152677e-02+0.01634229j, -2.28798726e-02-0.01688452j,\n",
      "        4.02161576e-02+0.j        , -6.34845846e-03+0.00459717j,\n",
      "        1.23834802e-02+0.01122054j, -2.25916610e-02+0.0038425j ,\n",
      "        3.40341202e-04-0.00867513j,  1.73415354e-02+0.02206324j,\n",
      "       -7.95916648e-03+0.01078625j,  1.44957898e-02+0.01065376j,\n",
      "       -1.03018496e-02-0.00691449j, -3.06133656e-02+0.01265085j,\n",
      "        6.56019162e-03+0.0042214j , -1.29654368e-02-0.00583584j],\n",
      "      [ 2.07225804e-02+0.04386567j,  5.16285591e-03+0.00226621j,\n",
      "        2.21851209e-03+0.0001338j ,  1.34078802e-02+0.00568033j,\n",
      "       -6.34845846e-03-0.00459717j,  1.97198446e-02+0.j        ,\n",
      "       -1.93064713e-03-0.01379678j,  2.65655585e-02+0.03863014j,\n",
      "        3.74671660e-04+0.01551508j, -3.00071668e-04-0.00442914j,\n",
      "        1.43911503e-02+0.05622309j,  7.48046080e-03-0.00750317j,\n",
      "        2.77927944e-03-0.00049731j,  1.82818487e-02+0.02800857j,\n",
      "        4.78956083e-03-0.01189473j, -7.24485899e-03-0.00105985j],\n",
      "      [-3.26518258e-02+0.01185528j, -1.08863592e-02-0.0093732j ,\n",
      "       -9.90104966e-04+0.01767962j, -9.72276608e-03+0.01568091j,\n",
      "        1.23834802e-02-0.01122054j, -1.93064713e-03+0.01379678j,\n",
      "        3.25559708e-02+0.j        , -4.12856859e-02-0.00716531j,\n",
      "       -9.19808793e-03-0.00159902j,  9.52710422e-03+0.00366774j,\n",
      "       -2.83625878e-02-0.01419015j,  2.45472847e-02+0.01564919j,\n",
      "       -1.91367920e-03+0.01110793j, -4.63188538e-02-0.01070792j,\n",
      "        4.58319410e-03+0.00505312j, -6.68210930e-03+0.00650201j],\n",
      "      [ 9.00430896e-01-0.01724808j,  2.59772439e-02+0.00093975j,\n",
      "       -2.76092302e-02-0.04721429j,  1.49646481e-02-0.02136431j,\n",
      "       -2.25916610e-02-0.0038425j ,  2.65655585e-02-0.03863014j,\n",
      "       -4.12856859e-02+0.00716531j,  9.17568529e-01+0.j        ,\n",
      "       -8.18143100e-03+0.03496817j, -6.05003881e-03+0.02639192j,\n",
      "        8.87591380e-01+0.11545104j, -2.91761269e-02-0.00380177j,\n",
      "        1.22913874e-02-0.00188463j,  8.87365056e-01-0.00275504j,\n",
      "        2.15331135e-03-0.00841648j,  1.58452849e-02+0.0391568j ],\n",
      "      [-6.00753968e-03-0.01762998j, -3.65515414e-04-0.0040705j ,\n",
      "       -4.64910472e-03+0.00473261j,  6.58178300e-03-0.009111j  ,\n",
      "        3.40341202e-04+0.00867513j,  3.74671660e-04-0.01551508j,\n",
      "       -9.19808793e-03+0.00159902j, -8.18143100e-03-0.03496817j,\n",
      "        1.79826214e-02+0.j        , -6.84707292e-03+0.00525795j,\n",
      "        9.71709305e-03-0.01832125j, -1.53460080e-03-0.00460089j,\n",
      "        2.80488090e-03+0.00230445j, -2.30629337e-02-0.02896463j,\n",
      "       -1.04254844e-02-0.00401973j, -3.87802701e-03+0.00493036j],\n",
      "      [ 1.12337159e-02-0.02179749j,  6.13589037e-03+0.00049833j,\n",
      "        9.23482913e-03+0.01385072j, -1.65845219e-02-0.00327924j,\n",
      "        1.73415354e-02-0.02206324j, -3.00071668e-04+0.00442914j,\n",
      "        9.52710422e-03-0.00366774j, -6.05003881e-03-0.02639192j,\n",
      "       -6.84707292e-03-0.00525795j,  3.01358575e-02+0.j        ,\n",
      "        1.33180589e-02-0.03910119j,  1.11059866e-02-0.00705392j,\n",
      "       -5.80973095e-03-0.01156815j,  3.43281582e-04-0.01122469j,\n",
      "        8.57727744e-03-0.00236946j, -2.17000417e-03+0.00042738j],\n",
      "      [ 9.12088964e-01-0.10243005j,  1.80576719e-02-0.01298466j,\n",
      "       -2.15779352e-02-0.01875619j,  9.90282645e-03-0.03271173j,\n",
      "       -7.95916648e-03-0.01078625j,  1.43911503e-02-0.05622309j,\n",
      "       -2.83625878e-02+0.01419015j,  8.87591380e-01-0.11545104j,\n",
      "        9.71709305e-03+0.01832125j,  1.33180589e-02+0.03910119j,\n",
      "        9.28575865e-01+0.j        , -1.54936119e-02-0.00432598j,\n",
      "        1.90817911e-02-0.00473691j,  8.40020020e-01-0.0881368j ,\n",
      "       -1.12284602e-02-0.00559594j,  1.51923222e-02+0.05814758j],\n",
      "      [-1.76090869e-02+0.02797517j, -1.08345039e-02-0.00148095j,\n",
      "        1.90734766e-03+0.0195139j , -1.66569237e-04+0.00871219j,\n",
      "        1.44957898e-02-0.01065376j,  7.48046080e-03+0.00750317j,\n",
      "        2.45472847e-02-0.01564919j, -2.91761269e-02+0.00380177j,\n",
      "       -1.53460080e-03+0.00460089j,  1.11059866e-02+0.00705392j,\n",
      "       -1.54936119e-02+0.00432598j,  3.21067732e-02+0.j        ,\n",
      "        3.87767501e-03+0.00749057j, -4.46150753e-02+0.00630876j,\n",
      "        5.95610994e-03-0.00016199j, -6.73529650e-03+0.00760093j],\n",
      "      [ 3.35542456e-02-0.00383587j, -1.02406440e-02+0.01181262j,\n",
      "        6.87848140e-03+0.00399232j,  2.49878744e-02+0.0036747j ,\n",
      "       -1.03018496e-02+0.00691449j,  2.77927944e-03+0.00049731j,\n",
      "       -1.91367920e-03-0.01110793j,  1.22913874e-02+0.00188463j,\n",
      "        2.80488090e-03-0.00230445j, -5.80973095e-03+0.01156815j,\n",
      "        1.90817911e-02+0.00473691j,  3.87767501e-03-0.00749057j,\n",
      "        2.82824420e-02+0.j        ,  4.88823690e-03+0.00902189j,\n",
      "        7.33094146e-04+0.00597589j,  1.37146077e-02+0.0062132j ],\n",
      "      [ 8.69796881e-01-0.0461868j ,  3.07598465e-02+0.0058895j ,\n",
      "       -1.85325522e-02-0.05899391j,  3.41801385e-03-0.01621018j,\n",
      "       -3.06133656e-02-0.01265085j,  1.82818487e-02-0.02800857j,\n",
      "       -4.63188538e-02+0.01070792j,  8.87365056e-01+0.00275504j,\n",
      "       -2.30629337e-02+0.02896463j,  3.43281582e-04+0.01122469j,\n",
      "        8.40020020e-01+0.0881368j , -4.46150753e-02-0.00630876j,\n",
      "        4.88823690e-03-0.00902189j,  8.85352327e-01+0.j        ,\n",
      "        8.22923675e-03-0.0048912j ,  2.53954451e-02+0.02976069j],\n",
      "      [-5.10094238e-03+0.0022634j ,  3.81909486e-03+0.00819517j,\n",
      "       -5.01217066e-04+0.0004453j , -2.23734377e-03+0.00221741j,\n",
      "        6.56019162e-03-0.0042214j ,  4.78956083e-03+0.01189473j,\n",
      "        4.58319410e-03-0.00505312j,  2.15331135e-03+0.00841648j,\n",
      "       -1.04254844e-02+0.00401973j,  8.57727744e-03+0.00236946j,\n",
      "       -1.12284602e-02+0.00559594j,  5.95610994e-03+0.00016199j,\n",
      "        7.33094146e-04-0.00597589j,  8.22923675e-03+0.0048912j ,\n",
      "        1.21948216e-02+0.j        ,  1.33864487e-03-0.00861118j],\n",
      "      [ 2.83957678e-02-0.06751821j, -7.55165015e-03+0.01102368j,\n",
      "        8.38182286e-03-0.00871895j,  1.03337143e-02-0.0018336j ,\n",
      "       -1.29654368e-02+0.00583584j, -7.24485899e-03+0.00105985j,\n",
      "       -6.68210930e-03-0.00650201j,  1.58452849e-02-0.0391568j ,\n",
      "       -3.87802701e-03-0.00493036j, -2.17000417e-03-0.00042738j,\n",
      "        1.51923222e-02-0.05814758j, -6.73529650e-03-0.00760093j,\n",
      "        1.37146077e-02-0.0062132j ,  2.53954451e-02-0.02976069j,\n",
      "        1.33864487e-03+0.00861118j,  2.07935275e-02+0.j        ]],\n",
      "     input_dims=(2, 2), output_dims=(2, 2))\n",
      "- extra: <1 items>\n",
      "- device_components: ['Q0', 'Q1']\n",
      "- verified: False\n",
      "extra:\n",
      " {'Average gate fidelity': 0.9139846642695275}\n"
     ]
    }
   ],
   "source": [
    "qstexp7 = GateSetTomography(qubits=[0,1], basis_gates='default', spam_gates='default')\n",
    "qstexp7.set_analysis_options(fitter='scipy_optimizer_MLE_gst', fitter_initial_guess='default')\n",
    "qstdata7 = qstexp7.run(backend_fake_P).block_for_results()\n",
    "print(qstdata7.analysis_results(\"GST Experiment properties\"))\n",
    "print(qstdata7.analysis_results(\"gst estimation of CX\"))\n",
    "print('extra:\\n', qstdata7.analysis_results(\"gst estimation of CX\").extra)"
   ]
  },
  {
   "cell_type": "markdown",
   "id": "ff95c197",
   "metadata": {},
   "source": [
    "## References"
   ]
  },
  {
   "cell_type": "markdown",
   "id": "c659ffcb",
   "metadata": {},
   "source": [
    "[1] Greenbaum, Daniel. \"Introduction to quantum gate set tomography.\" arXiv preprint arXiv:1509.02921 (2015)."
   ]
  },
  {
   "cell_type": "code",
   "execution_count": 45,
   "id": "ae969152",
   "metadata": {},
   "outputs": [
    {
     "data": {
      "text/html": [
       "<div style='width: 100%; background-color:#d5d9e0;padding-left: 10px; padding-bottom: 10px; padding-right: 10px; padding-top: 5px'><h3>This code is a part of Qiskit</h3><p>&copy; Copyright IBM 2017, 2021.</p><p>This code is licensed under the Apache License, Version 2.0. You may<br>obtain a copy of this license in the LICENSE.txt file in the root directory<br> of this source tree or at http://www.apache.org/licenses/LICENSE-2.0.<p>Any modifications or derivative works of this code must retain this<br>copyright notice, and modified files need to carry a notice indicating<br>that they have been altered from the originals.</p></div>"
      ],
      "text/plain": [
       "<IPython.core.display.HTML object>"
      ]
     },
     "metadata": {},
     "output_type": "display_data"
    }
   ],
   "source": [
    "import qiskit.tools.jupyter\n",
    "%qiskit_copyright"
   ]
  }
 ],
 "metadata": {
  "kernelspec": {
   "display_name": "Python 3",
   "language": "python",
   "name": "python3"
  },
  "language_info": {
   "codemirror_mode": {
    "name": "ipython",
    "version": 3
   },
   "file_extension": ".py",
   "mimetype": "text/x-python",
   "name": "python",
   "nbconvert_exporter": "python",
   "pygments_lexer": "ipython3",
   "version": "3.8.8"
  }
 },
 "nbformat": 4,
 "nbformat_minor": 5
}
